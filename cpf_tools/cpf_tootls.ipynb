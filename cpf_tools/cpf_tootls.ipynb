{
 "cells": [
  {
   "cell_type": "code",
   "execution_count": 1,
   "metadata": {},
   "outputs": [],
   "source": [
    "import re\n",
    "from string import punctuation\n",
    "import random"
   ]
  },
  {
   "cell_type": "code",
   "execution_count": 2,
   "metadata": {},
   "outputs": [],
   "source": [
    "cpf_list = ['111.444.777-35', '30579519023', '14643350016', '007.044.800-00', '546.546.565-58',\n",
    "            '894.575.198-84', '132.788.469-12', '786.615.942-00', 'oek.dju.fjh.pq', '111.111.111-11']"
   ]
  },
  {
   "cell_type": "code",
   "execution_count": 3,
   "metadata": {},
   "outputs": [],
   "source": [
    "def for_in(range_num: int, cpf_num: str) -> int:\n",
    "    digit, first_sum = 0, 0\n",
    "    for i in range(range_num, 1, -1):\n",
    "        first_sum += i * int(cpf_num[digit])\n",
    "        digit += 1\n",
    "    first_rest = first_sum % 11\n",
    "    if first_rest < 2: return 0\n",
    "    return 11 - first_rest"
   ]
  },
  {
   "cell_type": "code",
   "execution_count": 4,
   "metadata": {},
   "outputs": [],
   "source": [
    "def cpf_verificator(user_cpf: str) -> bool:\n",
    "    try:\n",
    "        user_cpf = str(user_cpf)\n",
    "        clean_cpf = re.sub(f'[A-zÀ-ú_{punctuation}]', '', user_cpf)\n",
    "        if len(set(clean_cpf)) == 1: return False\n",
    "        new_cpf = clean_cpf[:9]\n",
    "        first_digit = for_in(10, clean_cpf)\n",
    "        new_cpf = new_cpf + str(first_digit)\n",
    "        second_digit = for_in(11, new_cpf)\n",
    "        new_cpf = new_cpf + str(second_digit)\n",
    "        return new_cpf == clean_cpf\n",
    "    except:\n",
    "        return False"
   ]
  },
  {
   "cell_type": "code",
   "execution_count": 5,
   "metadata": {},
   "outputs": [
    {
     "name": "stdout",
     "output_type": "stream",
     "text": [
      "True\n",
      "True\n",
      "True\n",
      "True\n",
      "False\n",
      "False\n",
      "False\n",
      "False\n",
      "False\n",
      "False\n"
     ]
    }
   ],
   "source": [
    "for cpf in cpf_list: print(cpf_verificator(cpf))"
   ]
  },
  {
   "cell_type": "code",
   "execution_count": 6,
   "metadata": {},
   "outputs": [],
   "source": [
    "def cpf_generator():\n",
    "    while True:\n",
    "        new_cpf = ''\n",
    "        for _ in range(0, 11):\n",
    "            new_cpf += str(random.randint(0, 9))\n",
    "        cpf_verifier = cpf_verificator(new_cpf)\n",
    "        if cpf_verifier:\n",
    "            return f'{new_cpf[:3]}.{new_cpf[3:6]}.{new_cpf[6:9]}-{new_cpf[9:]}'"
   ]
  },
  {
   "cell_type": "code",
   "execution_count": 7,
   "metadata": {},
   "outputs": [
    {
     "name": "stdout",
     "output_type": "stream",
     "text": [
      "218.689.373-80\n"
     ]
    }
   ],
   "source": [
    "print(cpf_generator())"
   ]
  }
 ],
 "metadata": {
  "kernelspec": {
   "display_name": "venv",
   "language": "python",
   "name": "python3"
  },
  "language_info": {
   "codemirror_mode": {
    "name": "ipython",
    "version": 3
   },
   "file_extension": ".py",
   "mimetype": "text/x-python",
   "name": "python",
   "nbconvert_exporter": "python",
   "pygments_lexer": "ipython3",
   "version": "3.12.0"
  }
 },
 "nbformat": 4,
 "nbformat_minor": 2
}
