{
 "cells": [
  {
   "cell_type": "code",
   "execution_count": 1,
   "metadata": {},
   "outputs": [],
   "source": [
    "import random"
   ]
  },
  {
   "cell_type": "code",
   "execution_count": 2,
   "metadata": {},
   "outputs": [],
   "source": [
    "def number_draw(in_range: int, fi_range: int) -> int:\n",
    "    if in_range > fi_range: return random.randrange(in_range, fi_range - 1, -1)\n",
    "    return random.randrange(in_range, fi_range + 1)"
   ]
  },
  {
   "cell_type": "code",
   "execution_count": 3,
   "metadata": {},
   "outputs": [
    {
     "name": "stdout",
     "output_type": "stream",
     "text": [
      "651\n",
      "14\n",
      "13\n",
      "76\n",
      "20\n"
     ]
    }
   ],
   "source": [
    "print(number_draw(100, 1100))\n",
    "print(number_draw(5, 15))\n",
    "print(number_draw(0, 100))\n",
    "print(number_draw(100, 5))\n",
    "print(number_draw(20, 51))"
   ]
  }
 ],
 "metadata": {
  "kernelspec": {
   "display_name": "venv",
   "language": "python",
   "name": "python3"
  },
  "language_info": {
   "codemirror_mode": {
    "name": "ipython",
    "version": 3
   },
   "file_extension": ".py",
   "mimetype": "text/x-python",
   "name": "python",
   "nbconvert_exporter": "python",
   "pygments_lexer": "ipython3",
   "version": "3.12.0"
  }
 },
 "nbformat": 4,
 "nbformat_minor": 2
}
