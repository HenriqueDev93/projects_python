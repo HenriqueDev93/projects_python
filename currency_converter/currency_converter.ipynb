{
 "cells": [
  {
   "cell_type": "code",
   "execution_count": 1,
   "metadata": {},
   "outputs": [],
   "source": [
    "import requests as rq"
   ]
  },
  {
   "cell_type": "code",
   "execution_count": 2,
   "metadata": {},
   "outputs": [],
   "source": [
    "dolar = 'USD'\n",
    "euro = 'EUR'\n",
    "iene = 'JPY'\n",
    "real = 'BRL'"
   ]
  },
  {
   "cell_type": "code",
   "execution_count": 3,
   "metadata": {},
   "outputs": [],
   "source": [
    "def currency_converter(moeda1: str, moeda2: str, value_num: float) -> float:\n",
    "    requisition = rq.get(\n",
    "        f'https://economia.awesomeapi.com.br/last/{moeda1}-{moeda2}')\n",
    "    requisition_dic = requisition.json()\n",
    "    return float(requisition_dic[f'{moeda1}{moeda2}']['bid']) * value_num"
   ]
  },
  {
   "cell_type": "code",
   "execution_count": 4,
   "metadata": {},
   "outputs": [
    {
     "name": "stdout",
     "output_type": "stream",
     "text": [
      "10,190.00\n",
      "245,295.00\n",
      "50,408.12\n"
     ]
    }
   ],
   "source": [
    "print(f'{currency_converter(real, dolar, 50000):,.2f}')\n",
    "print(f'{currency_converter(dolar, real, 50000):,.2f}')\n",
    "print(f'{currency_converter(dolar, real, 10275):,.2f}')"
   ]
  }
 ],
 "metadata": {
  "kernelspec": {
   "display_name": "venv",
   "language": "python",
   "name": "python3"
  },
  "language_info": {
   "codemirror_mode": {
    "name": "ipython",
    "version": 3
   },
   "file_extension": ".py",
   "mimetype": "text/x-python",
   "name": "python",
   "nbconvert_exporter": "python",
   "pygments_lexer": "ipython3",
   "version": "3.12.0"
  }
 },
 "nbformat": 4,
 "nbformat_minor": 2
}
