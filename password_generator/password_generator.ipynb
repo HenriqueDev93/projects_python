{
 "cells": [
  {
   "cell_type": "code",
   "execution_count": 3,
   "metadata": {},
   "outputs": [],
   "source": [
    "from string import ascii_lowercase, ascii_uppercase, digits, punctuation\n",
    "import random"
   ]
  },
  {
   "cell_type": "code",
   "execution_count": 4,
   "metadata": {},
   "outputs": [],
   "source": [
    "def password_generator(how_many: int, pass_types: list) -> str:\n",
    "    new_pass: str = ''\n",
    "    while len(new_pass) < how_many:\n",
    "        random_list = random.choice(pass_types)\n",
    "        new_pass += random.choice(random_list)\n",
    "    return new_pass"
   ]
  },
  {
   "cell_type": "code",
   "execution_count": 5,
   "metadata": {},
   "outputs": [
    {
     "name": "stdout",
     "output_type": "stream",
     "text": [
      "EIaDvSF+;5Zr.wU(6(b,\n"
     ]
    }
   ],
   "source": [
    "try:\n",
    "    how_many: int = int(input('Quantos caracteres sua senha precisa ter? '))\n",
    "    print(password_generator(how_many, [ascii_lowercase, ascii_uppercase, digits, punctuation]))\n",
    "except:\n",
    "    print('Apenas números são permitidos.')"
   ]
  }
 ],
 "metadata": {
  "kernelspec": {
   "display_name": "venv",
   "language": "python",
   "name": "python3"
  },
  "language_info": {
   "codemirror_mode": {
    "name": "ipython",
    "version": 3
   },
   "file_extension": ".py",
   "mimetype": "text/x-python",
   "name": "python",
   "nbconvert_exporter": "python",
   "pygments_lexer": "ipython3",
   "version": "3.12.0"
  }
 },
 "nbformat": 4,
 "nbformat_minor": 2
}
