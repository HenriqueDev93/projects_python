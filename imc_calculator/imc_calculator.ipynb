{
 "cells": [
  {
   "cell_type": "code",
   "execution_count": 20,
   "metadata": {},
   "outputs": [],
   "source": [
    "def imc_calculator() -> str:\n",
    "    try:\n",
    "        user_height = float((input('Qual sua altura? ') + '00').replace(',', '').replace('.', '')[0:3])/100\n",
    "        user_weight = float(input('Qual seu peso? ').replace(',', '.'))\n",
    "\n",
    "        user_imc: float = round(user_weight / (user_height**2), 2)\n",
    "        show_imc: str = str(user_imc).replace('.', ',')\n",
    "\n",
    "        if user_imc > 0 and user_imc < 18.5:\n",
    "            result = f'Você está abaixo do peso! Seu IMC é de {show_imc}'\n",
    "        elif user_imc > 18.5 and user_imc < 25:\n",
    "            result = f'Você está no peso ideal! Seu IMC é de {show_imc}'\n",
    "        elif user_imc >= 25 and user_imc < 30:\n",
    "            result = f'Você está com sobrepeso! Seu IMC é de {show_imc}'\n",
    "        elif user_imc >= 30 and user_imc < 35:\n",
    "            result = f'Você está com Obesidade I (nível 1)! Seu IMC é de {show_imc}'\n",
    "        elif user_imc >= 35 and user_imc < 40:\n",
    "            result = f'Você está com Obesidade II (nível 2)! Seu IMC é de {show_imc}'\n",
    "        elif user_imc >= 40 and user_imc < 100:\n",
    "            result = f'Você está com Obesidade III (nível 3)! Seu IMC é de {show_imc}'\n",
    "        else:\n",
    "            result = 'Valor inválido, tente novamente.'\n",
    "        return f'Peso: {user_weight}kg, altura: {user_height}m.\\n{result}'\n",
    "\n",
    "    except:\n",
    "        return 'Valores inseridos inválidos, tente novamente.'"
   ]
  },
  {
   "cell_type": "code",
   "execution_count": 21,
   "metadata": {},
   "outputs": [
    {
     "name": "stdout",
     "output_type": "stream",
     "text": [
      "Peso: 80.0kg, altura: 1.8m.\n",
      "Você está no peso ideal! Seu IMC é de 24,69\n"
     ]
    }
   ],
   "source": [
    "print(imc_calculator())"
   ]
  }
 ],
 "metadata": {
  "kernelspec": {
   "display_name": "venv",
   "language": "python",
   "name": "python3"
  },
  "language_info": {
   "codemirror_mode": {
    "name": "ipython",
    "version": 3
   },
   "file_extension": ".py",
   "mimetype": "text/x-python",
   "name": "python",
   "nbconvert_exporter": "python",
   "pygments_lexer": "ipython3",
   "version": "3.12.0"
  }
 },
 "nbformat": 4,
 "nbformat_minor": 2
}
