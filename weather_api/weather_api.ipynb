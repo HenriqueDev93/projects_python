{
 "cells": [
  {
   "cell_type": "markdown",
   "metadata": {},
   "source": [
    "# Como está o clima?\n",
    "##### <a href=\"https://openweathermap.org/api\">API source</a>\n",
    "\n",
    "Objetivo: criar um programa que extrai dados de uma API e traga as informações de uma cidade.\n",
    "\n",
    "Passo-a-passo:\n",
    "\n",
    "1. Importar as bibliotecas a serem utilizadas;\n",
    "2. trazer a chave da API de forma \"secreta\";\n",
    "3. extrair as informações da API;\n",
    "4. isolar as informações para exibição."
   ]
  },
  {
   "cell_type": "markdown",
   "metadata": {},
   "source": [
    "#### 1. Importar as bibliotecas a serem utilizadas:\n"
   ]
  },
  {
   "cell_type": "code",
   "execution_count": 1,
   "metadata": {},
   "outputs": [],
   "source": [
    "import requests as rq"
   ]
  },
  {
   "cell_type": "markdown",
   "metadata": {},
   "source": [
    "#### 2. Trazer a chave da API de forma \"secreta\":\n"
   ]
  },
  {
   "cell_type": "code",
   "execution_count": 2,
   "metadata": {},
   "outputs": [],
   "source": [
    "with open('.secret.txt') as file:\n",
    "    api_key = file.read()"
   ]
  },
  {
   "cell_type": "markdown",
   "metadata": {},
   "source": [
    "#### 3. Extrair as informações da API:\n"
   ]
  },
  {
   "cell_type": "code",
   "execution_count": 3,
   "metadata": {},
   "outputs": [
    {
     "data": {
      "text/plain": [
       "{'coord': {'lon': -46.6361, 'lat': -23.5475},\n",
       " 'weather': [{'id': 701,\n",
       "   'main': 'Mist',\n",
       "   'description': 'névoa',\n",
       "   'icon': '50d'},\n",
       "  {'id': 501, 'main': 'Rain', 'description': 'chuva moderada', 'icon': '10d'}],\n",
       " 'base': 'stations',\n",
       " 'main': {'temp': 20.15,\n",
       "  'feels_like': 20.7,\n",
       "  'temp_min': 19.75,\n",
       "  'temp_max': 20.61,\n",
       "  'pressure': 1018,\n",
       "  'humidity': 95},\n",
       " 'visibility': 3500,\n",
       " 'wind': {'speed': 2.57, 'deg': 100},\n",
       " 'rain': {'1h': 3.07},\n",
       " 'clouds': {'all': 40},\n",
       " 'dt': 1700421532,\n",
       " 'sys': {'type': 1,\n",
       "  'id': 8394,\n",
       "  'country': 'BR',\n",
       "  'sunrise': 1700381567,\n",
       "  'sunset': 1700429475},\n",
       " 'timezone': -10800,\n",
       " 'id': 3448439,\n",
       " 'name': 'São Paulo',\n",
       " 'cod': 200}"
      ]
     },
     "metadata": {},
     "output_type": "display_data"
    }
   ],
   "source": [
    "city = 'sao paulo'\n",
    "\n",
    "weather = rq.get(f'https://api.openweathermap.org/data/2.5/weather?q={city}&appid={api_key}&lang=pt_br&units=metric')\n",
    "weather_dic = weather.json()\n",
    "display(weather_dic)"
   ]
  },
  {
   "cell_type": "markdown",
   "metadata": {},
   "source": [
    "#### 4. Isolar as informações para exibição:"
   ]
  },
  {
   "cell_type": "code",
   "execution_count": 4,
   "metadata": {},
   "outputs": [
    {
     "data": {
      "text/plain": [
       "20"
      ]
     },
     "metadata": {},
     "output_type": "display_data"
    },
    {
     "data": {
      "text/plain": [
       "'Névoa'"
      ]
     },
     "metadata": {},
     "output_type": "display_data"
    },
    {
     "data": {
      "text/plain": [
       "'https://openweathermap.org/img/wn/50d.png'"
      ]
     },
     "metadata": {},
     "output_type": "display_data"
    },
    {
     "data": {
      "text/plain": [
       "95"
      ]
     },
     "metadata": {},
     "output_type": "display_data"
    },
    {
     "data": {
      "text/plain": [
       "'São Paulo'"
      ]
     },
     "metadata": {},
     "output_type": "display_data"
    }
   ],
   "source": [
    "weather_temp = round(weather_dic['main']['temp']) # temperatura (int)\n",
    "weather_img = f\"https://openweathermap.org/img/wn/{weather_dic['weather'][0]['icon']}.png\" # link imagem em png descritiva do tempo\n",
    "weather_desc = weather_dic['weather'][0]['description'].title() # descrição do tempo\n",
    "weather_hum = weather_dic['main']['humidity'] # umidade relativa do ar\n",
    "city_name = weather_dic['name'].title() # nome da cidade\n",
    "\n",
    "display(weather_temp, weather_desc, weather_img, weather_hum, city_name)"
   ]
  }
 ],
 "metadata": {
  "kernelspec": {
   "display_name": "venv",
   "language": "python",
   "name": "python3"
  },
  "language_info": {
   "codemirror_mode": {
    "name": "ipython",
    "version": 3
   },
   "file_extension": ".py",
   "mimetype": "text/x-python",
   "name": "python",
   "nbconvert_exporter": "python",
   "pygments_lexer": "ipython3",
   "version": "3.12.0"
  }
 },
 "nbformat": 4,
 "nbformat_minor": 2
}
