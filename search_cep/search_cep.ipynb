{
 "cells": [
  {
   "cell_type": "code",
   "execution_count": 1,
   "metadata": {},
   "outputs": [],
   "source": [
    "import requests as rq"
   ]
  },
  {
   "cell_type": "code",
   "execution_count": 2,
   "metadata": {},
   "outputs": [],
   "source": [
    "def search_cep(input_cep):\n",
    "    request_cep = rq.get(f'https://cep.awesomeapi.com.br/json/{input_cep}')\n",
    "    requisition_cep = request_cep.json()\n",
    "    try:\n",
    "        user_cep = requisition_cep['cep']\n",
    "        user_address = requisition_cep['address']\n",
    "        user_district = requisition_cep['district']\n",
    "        user_city_state = f'{requisition_cep[\"city\"]}-{requisition_cep[\"state\"]}'\n",
    "        user_ddd = requisition_cep['ddd']\n",
    "\n",
    "        map_address = f'{requisition_cep['lat']},{requisition_cep['lng']}'\n",
    "        return f'CEP: {user_cep}', f'Endereço: {user_address}', f'Bairro: {user_district}', f'Cidade-Estado: {user_city_state}', f'DDD: {user_ddd} | {map_address}'\n",
    "    except:\n",
    "        return 'CEP inválido, tente novamente'"
   ]
  },
  {
   "cell_type": "code",
   "execution_count": 3,
   "metadata": {},
   "outputs": [
    {
     "name": "stdout",
     "output_type": "stream",
     "text": [
      "CEP inválido, tente novamente\n",
      "('CEP: 38408000', 'Endereço: Rua Modesta Maria', 'Bairro: Saraiva', 'Cidade-Estado: Uberlândia-MG', 'DDD: 34 | -18.91209,-48.26144')\n",
      "('CEP: 04929340', 'Endereço: Rua Soares de Sousa Júnior', 'Bairro: Alto da Riviera', 'Cidade-Estado: São Paulo-SP', 'DDD: 11 | -23.70008,-46.76901')\n",
      "('CEP: 22220001', 'Endereço: Rua do Catete', 'Bairro: Catete', 'Cidade-Estado: Rio de Janeiro-RJ', 'DDD: 21 | -22.9301,-43.17761')\n"
     ]
    }
   ],
   "source": [
    "print(search_cep('6516516516'))\n",
    "print(search_cep('38408000'))\n",
    "print(search_cep('04929-340'))\n",
    "print(search_cep('22220-001'))"
   ]
  }
 ],
 "metadata": {
  "kernelspec": {
   "display_name": "venv",
   "language": "python",
   "name": "python3"
  },
  "language_info": {
   "codemirror_mode": {
    "name": "ipython",
    "version": 3
   },
   "file_extension": ".py",
   "mimetype": "text/x-python",
   "name": "python",
   "nbconvert_exporter": "python",
   "pygments_lexer": "ipython3",
   "version": "3.12.0"
  }
 },
 "nbformat": 4,
 "nbformat_minor": 2
}
